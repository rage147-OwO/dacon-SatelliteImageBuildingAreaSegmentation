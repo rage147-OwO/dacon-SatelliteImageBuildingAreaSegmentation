{
  "cells": [
    {
      "cell_type": "markdown",
      "metadata": {
        "id": "view-in-github",
        "colab_type": "text"
      },
      "source": [
        "<a href=\"https://colab.research.google.com/github/rage147-OwO/dacon-SatelliteImageBuildingAreaSegmentation/blob/main/LimJunTaek-%5BBaseline%5D_Unet%EC%9D%84_%ED%99%9C%EC%9A%A9%ED%95%9C_Segmentation%EA%B3%BC_RLE_%EC%9D%B8%EC%BD%94%EB%94%A9_%EB%94%94%EC%BD%94%EB%94%A9.ipynb\" target=\"_parent\"><img src=\"https://colab.research.google.com/assets/colab-badge.svg\" alt=\"Open In Colab\"/></a>"
      ]
    },
    {
      "cell_type": "code",
      "source": [
        "from google.colab import drive\n",
        "drive.mount('/content/drive')"
      ],
      "metadata": {
        "colab": {
          "base_uri": "https://localhost:8080/"
        },
        "id": "17StP5puW9D1",
        "outputId": "bce41cb7-5856-48f3-d0d1-47822556810f"
      },
      "id": "17StP5puW9D1",
      "execution_count": 1,
      "outputs": [
        {
          "output_type": "stream",
          "name": "stdout",
          "text": [
            "Mounted at /content/drive\n"
          ]
        }
      ]
    },
    {
      "cell_type": "code",
      "source": [
        "!unzip -qq \"/content/drive/MyDrive/open.zip\" -d \"/content\""
      ],
      "metadata": {
        "id": "Fppz0fwKhaLD"
      },
      "id": "Fppz0fwKhaLD",
      "execution_count": null,
      "outputs": []
    },
    {
      "cell_type": "markdown",
      "id": "d73d24e3-5c9e-4ade-9e6e-ca6f46a2d914",
      "metadata": {
        "id": "d73d24e3-5c9e-4ade-9e6e-ca6f46a2d914"
      },
      "source": [
        "## Import"
      ]
    },
    {
      "cell_type": "code",
      "execution_count": null,
      "id": "ad9b681e-370a-4cfa-a452-dd2d7f0cd77f",
      "metadata": {
        "id": "ad9b681e-370a-4cfa-a452-dd2d7f0cd77f"
      },
      "outputs": [],
      "source": [
        "import os\n",
        "import cv2\n",
        "import pandas as pd\n",
        "import numpy as np\n",
        "\n",
        "import torch\n",
        "import torch.nn as nn\n",
        "from torch.utils.data import Dataset, DataLoader\n",
        "from torchvision import transforms\n",
        "\n",
        "from tqdm import tqdm\n",
        "import albumentations as A\n",
        "from albumentations.pytorch import ToTensorV2\n",
        "\n",
        "\n",
        "device = torch.device('cuda' if torch.cuda.is_available() else 'cpu')\n",
        "\n",
        "\n",
        "\n"
      ]
    },
    {
      "cell_type": "markdown",
      "id": "20ff3de5-0d0e-497b-ac75-d5179a3f65d3",
      "metadata": {
        "id": "20ff3de5-0d0e-497b-ac75-d5179a3f65d3"
      },
      "source": [
        "## Utils"
      ]
    },
    {
      "cell_type": "code",
      "execution_count": null,
      "id": "838e1d83-8670-407b-82f6-bf9652f58639",
      "metadata": {
        "id": "838e1d83-8670-407b-82f6-bf9652f58639"
      },
      "outputs": [],
      "source": [
        "# RLE 디코딩 함수\n",
        "def rle_decode(mask_rle, shape):\n",
        "    s = mask_rle.split()\n",
        "    starts, lengths = [np.asarray(x, dtype=int) for x in (s[0:][::2], s[1:][::2])]\n",
        "    starts -= 1\n",
        "    ends = starts + lengths\n",
        "    img = np.zeros(shape[0]*shape[1], dtype=np.uint8)\n",
        "    for lo, hi in zip(starts, ends):\n",
        "        img[lo:hi] = 1\n",
        "    return img.reshape(shape)\n",
        "\n",
        "# RLE 인코딩 함수\n",
        "def rle_encode(mask):\n",
        "    pixels = mask.flatten()\n",
        "    pixels = np.concatenate([[0], pixels, [0]])\n",
        "    runs = np.where(pixels[1:] != pixels[:-1])[0] + 1\n",
        "    runs[1::2] -= runs[::2]\n",
        "    return ' '.join(str(x) for x in runs)"
      ]
    },
    {
      "cell_type": "markdown",
      "id": "be76a29e-e9c2-411a-a569-04166f074184",
      "metadata": {
        "id": "be76a29e-e9c2-411a-a569-04166f074184"
      },
      "source": [
        "## Custom Dataset"
      ]
    },
    {
      "cell_type": "code",
      "execution_count": null,
      "id": "a8496767-2f64-4285-bec4-c6f53a1fd9d2",
      "metadata": {
        "id": "a8496767-2f64-4285-bec4-c6f53a1fd9d2"
      },
      "outputs": [],
      "source": [
        "class SatelliteDataset(Dataset):\n",
        "    def __init__(self, csv_file, transform=None, infer=False):\n",
        "        self.data = pd.read_csv(csv_file)\n",
        "        self.transform = transform\n",
        "        self.infer = infer\n",
        "\n",
        "    def __len__(self):\n",
        "        return len(self.data)\n",
        "\n",
        "    def __getitem__(self, idx):\n",
        "        img_path = self.data.iloc[idx, 1]\n",
        "        image = cv2.imread(img_path)\n",
        "        image = cv2.cvtColor(image, cv2.COLOR_BGR2RGB)\n",
        "\n",
        "        if self.infer:\n",
        "            if self.transform:\n",
        "                image = self.transform(image=image)['image']\n",
        "            return image\n",
        "\n",
        "        mask_rle = self.data.iloc[idx, 2]\n",
        "        mask = rle_decode(mask_rle, (image.shape[0], image.shape[1]))\n",
        "\n",
        "        if self.transform:\n",
        "            augmented = self.transform(image=image, mask=mask)\n",
        "            image = augmented['image']\n",
        "            mask = augmented['mask']\n",
        "\n",
        "        return image, mask"
      ]
    },
    {
      "cell_type": "markdown",
      "id": "dc955893-22fd-4320-88be-7aa0d790cbd9",
      "metadata": {
        "id": "dc955893-22fd-4320-88be-7aa0d790cbd9"
      },
      "source": [
        "## Data Loader"
      ]
    },
    {
      "cell_type": "code",
      "execution_count": null,
      "id": "1b708503-2ff9-4584-9d73-40990b3572f8",
      "metadata": {
        "id": "1b708503-2ff9-4584-9d73-40990b3572f8",
        "colab": {
          "base_uri": "https://localhost:8080/"
        },
        "outputId": "8ef49e12-4a15-43f9-aec1-d01c7644361d"
      },
      "outputs": [
        {
          "output_type": "stream",
          "name": "stderr",
          "text": [
            "/usr/local/lib/python3.10/dist-packages/torch/utils/data/dataloader.py:560: UserWarning: This DataLoader will create 4 worker processes in total. Our suggested max number of worker in current system is 2, which is smaller than what this DataLoader is going to create. Please be aware that excessive worker creation might get DataLoader running slow or even freeze, lower the worker number to avoid potential slowness/freeze if necessary.\n",
            "  warnings.warn(_create_warning_msg(\n"
          ]
        }
      ],
      "source": [
        "transform = A.Compose(\n",
        "    [\n",
        "        A.Resize(224, 224),\n",
        "        A.Normalize(),\n",
        "        ToTensorV2()\n",
        "    ]\n",
        ")\n",
        "\n",
        "\n",
        "\n",
        "dataset = SatelliteDataset(csv_file='./train.csv', transform=transform)\n",
        "dataloader = DataLoader(dataset, batch_size=16, shuffle=True, num_workers=4)"
      ]
    },
    {
      "cell_type": "markdown",
      "id": "f42501fc-b573-4893-a7c4-5e280dfdaf09",
      "metadata": {
        "id": "f42501fc-b573-4893-a7c4-5e280dfdaf09"
      },
      "source": [
        "## Define Model"
      ]
    },
    {
      "cell_type": "code",
      "source": [
        "class Bottleneck(nn.Module):\n",
        "    expansion = 4\n",
        "\n",
        "    def __init__(self, inplanes, planes, stride=1, downsample=None, bn_momentum=0.1):\n",
        "        super(Bottleneck, self).__init__()\n",
        "        self.conv1 = nn.Conv2d(inplanes, planes, kernel_size=1, bias=False)\n",
        "        self.bn1 = nn.BatchNorm2d(planes, momentum=bn_momentum)\n",
        "        self.conv2 = nn.Conv2d(planes, planes, kernel_size=3, stride=stride, padding=1, bias=False)\n",
        "        self.bn2 = nn.BatchNorm2d(planes, momentum=bn_momentum)\n",
        "        self.conv3 = nn.Conv2d(planes, planes * self.expansion, kernel_size=1, bias=False)\n",
        "        self.bn3 = nn.BatchNorm2d(planes * self.expansion, momentum=bn_momentum)\n",
        "        self.relu = nn.ReLU(inplace=True)\n",
        "        self.downsample = downsample\n",
        "        self.stride = stride\n",
        "\n",
        "    def forward(self, x):\n",
        "        residual = x\n",
        "\n",
        "        out = self.conv1(x)\n",
        "        out = self.bn1(out)\n",
        "        out = self.relu(out)\n",
        "\n",
        "        out = self.conv2(out)\n",
        "        out = self.bn2(out)\n",
        "        out = self.relu(out)\n",
        "\n",
        "        out = self.conv3(out)\n",
        "        out = self.bn3(out)\n",
        "\n",
        "        if self.downsample is not None:\n",
        "            residual = self.downsample(x)\n",
        "\n",
        "        out += residual\n",
        "        out = self.relu(out)\n",
        "\n",
        "        return out\n",
        "\n",
        "\n",
        "class BasicBlock(nn.Module):\n",
        "    expansion = 1\n",
        "\n",
        "    def __init__(self, inplanes, planes, stride=1, downsample=None, bn_momentum=0.1):\n",
        "        super(BasicBlock, self).__init__()\n",
        "        self.conv1 = nn.Conv2d(inplanes, planes, kernel_size=3, stride=stride, padding=1, bias=False)\n",
        "        self.bn1 = nn.BatchNorm2d(planes, momentum=bn_momentum)\n",
        "        self.relu = nn.ReLU(inplace=True)\n",
        "        self.conv2 = nn.Conv2d(inplanes, planes, kernel_size=3, stride=1, padding=1, bias=False)\n",
        "        self.bn2 = nn.BatchNorm2d(planes, momentum=bn_momentum)\n",
        "        self.downsample = downsample\n",
        "        self.stride = stride\n",
        "\n",
        "    def forward(self, x):\n",
        "        residual = x\n",
        "\n",
        "        out = self.conv1(x)\n",
        "        out = self.bn1(out)\n",
        "        out = self.relu(out)\n",
        "\n",
        "        out = self.conv2(out)\n",
        "        out = self.bn2(out)\n",
        "\n",
        "        if self.downsample is not None:\n",
        "            residual = self.downsample(x)\n",
        "\n",
        "        out += residual\n",
        "        out = self.relu(out)\n",
        "\n",
        "        return out\n",
        "\n",
        "class StageModule(nn.Module):\n",
        "    def __init__(self, stage, output_branches, c, bn_momentum):\n",
        "        super(StageModule, self).__init__()\n",
        "        self.stage = stage\n",
        "        self.output_branches = output_branches\n",
        "\n",
        "        self.branches = nn.ModuleList()\n",
        "        for i in range(self.stage):\n",
        "            w = c * (2 ** i)\n",
        "            branch = nn.Sequential(\n",
        "                BasicBlock(w, w, bn_momentum=bn_momentum),\n",
        "                BasicBlock(w, w, bn_momentum=bn_momentum),\n",
        "                BasicBlock(w, w, bn_momentum=bn_momentum),\n",
        "                BasicBlock(w, w, bn_momentum=bn_momentum),\n",
        "            )\n",
        "            self.branches.append(branch)\n",
        "\n",
        "        self.fuse_layers = nn.ModuleList()\n",
        "        # for each output_branches (i.e. each branch in all cases but the very last one)\n",
        "        for i in range(self.output_branches):\n",
        "            self.fuse_layers.append(nn.ModuleList())\n",
        "            for j in range(self.stage):  # for each branch\n",
        "                if i == j:\n",
        "                    self.fuse_layers[-1].append(nn.Sequential())  # Used in place of \"None\" because it is callable\n",
        "                elif i < j:\n",
        "                    self.fuse_layers[-1].append(nn.Sequential(\n",
        "                        nn.Conv2d(c * (2 ** j), c * (2 ** i), kernel_size=(1, 1), stride=(1, 1), bias=False),\n",
        "                        nn.BatchNorm2d(c * (2 ** i), eps=1e-05, momentum=0.1, affine=True, track_running_stats=True),\n",
        "                        nn.Upsample(scale_factor=(2.0 ** (j - i)), mode='nearest'),\n",
        "                    ))\n",
        "                elif i > j:\n",
        "                    ops = []\n",
        "                    for k in range(i - j - 1):\n",
        "                        ops.append(nn.Sequential(\n",
        "                            nn.Conv2d(c * (2 ** j), c * (2 ** j), kernel_size=(3, 3), stride=(2, 2), padding=(1, 1),\n",
        "                                      bias=False),\n",
        "                            nn.BatchNorm2d(c * (2 ** j), eps=1e-05, momentum=0.1, affine=True,\n",
        "                                           track_running_stats=True),\n",
        "                            nn.ReLU(inplace=True),\n",
        "                        ))\n",
        "                    ops.append(nn.Sequential(\n",
        "                        nn.Conv2d(c * (2 ** j), c * (2 ** i), kernel_size=(3, 3), stride=(2, 2), padding=(1, 1),\n",
        "                                  bias=False),\n",
        "                        nn.BatchNorm2d(c * (2 ** i), eps=1e-05, momentum=0.1, affine=True, track_running_stats=True),\n",
        "                    ))\n",
        "                    self.fuse_layers[-1].append(nn.Sequential(*ops))\n",
        "\n",
        "        self.relu = nn.ReLU(inplace=True)\n",
        "\n",
        "    def forward(self, x):\n",
        "        assert len(self.branches) == len(x)\n",
        "\n",
        "        x = [branch(b) for branch, b in zip(self.branches, x)]\n",
        "\n",
        "        x_fused = []\n",
        "        for i in range(len(self.fuse_layers)):\n",
        "            for j in range(0, len(self.branches)):\n",
        "                if j == 0:\n",
        "                    x_fused.append(self.fuse_layers[i][0](x[0]))\n",
        "                else:\n",
        "                    x_fused[i] = x_fused[i] + self.fuse_layers[i][j](x[j])\n",
        "\n",
        "        for i in range(len(x_fused)):\n",
        "            x_fused[i] = self.relu(x_fused[i])\n",
        "\n",
        "        return x_fused\n",
        "\n",
        "\n",
        "class HRNet(nn.Module):\n",
        "    def __init__(self, c=224, nof_joints=3, bn_momentum=0.1):\n",
        "        super(HRNet, self).__init__()\n",
        "\n",
        "        # Input (stem net)\n",
        "        self.conv1 = nn.Conv2d(3, 64, kernel_size=(3, 3), stride=(2, 2), padding=(1, 1), bias=False)\n",
        "        self.bn1 = nn.BatchNorm2d(64, eps=1e-05, momentum=bn_momentum, affine=True, track_running_stats=True)\n",
        "        self.conv2 = nn.Conv2d(64, 64, kernel_size=(3, 3), stride=(2, 2), padding=(1, 1), bias=False)\n",
        "        self.bn2 = nn.BatchNorm2d(64, eps=1e-05, momentum=bn_momentum, affine=True, track_running_stats=True)\n",
        "        self.relu = nn.ReLU(inplace=True)\n",
        "\n",
        "        # Stage 1 (layer1)      - First group of bottleneck (resnet) modules\n",
        "        downsample = nn.Sequential(\n",
        "            nn.Conv2d(64, 256, kernel_size=(1, 1), stride=(1, 1), bias=False),\n",
        "            nn.BatchNorm2d(256, eps=1e-05, momentum=bn_momentum, affine=True, track_running_stats=True),\n",
        "        )\n",
        "        self.layer1 = nn.Sequential(\n",
        "            Bottleneck(64, 64, downsample=downsample),\n",
        "            Bottleneck(256, 64),\n",
        "            Bottleneck(256, 64),\n",
        "            Bottleneck(256, 64),\n",
        "        )\n",
        "\n",
        "        # Fusion layer 1 (transition1)      - Creation of the first two branches (one full and one half resolution)\n",
        "        self.transition1 = nn.ModuleList([\n",
        "            nn.Sequential(\n",
        "                nn.Conv2d(256, c, kernel_size=(3, 3), stride=(1, 1), padding=(1, 1), bias=False),\n",
        "                nn.BatchNorm2d(c, eps=1e-05, momentum=bn_momentum, affine=True, track_running_stats=True),\n",
        "                nn.ReLU(inplace=True),\n",
        "            ),\n",
        "            nn.Sequential(nn.Sequential(  # Double Sequential to fit with official pretrained weights\n",
        "                nn.Conv2d(256, c * (2 ** 1), kernel_size=(3, 3), stride=(2, 2), padding=(1, 1), bias=False),\n",
        "                nn.BatchNorm2d(c * (2 ** 1), eps=1e-05, momentum=bn_momentum, affine=True, track_running_stats=True),\n",
        "                nn.ReLU(inplace=True),\n",
        "            )),\n",
        "        ])\n",
        "\n",
        "        # Stage 2 (stage2)      - Second module with 1 group of bottleneck (resnet) modules. This has 2 branches\n",
        "        self.stage2 = nn.Sequential(\n",
        "            StageModule(stage=2, output_branches=2, c=c, bn_momentum=bn_momentum),\n",
        "        )\n",
        "\n",
        "        # Fusion layer 2 (transition2)      - Creation of the third branch (1/4 resolution)\n",
        "        self.transition2 = nn.ModuleList([\n",
        "            nn.Sequential(),  # None,   - Used in place of \"None\" because it is callable\n",
        "            nn.Sequential(),  # None,   - Used in place of \"None\" because it is callable\n",
        "            nn.Sequential(nn.Sequential(  # Double Sequential to fit with official pretrained weights\n",
        "                nn.Conv2d(c * (2 ** 1), c * (2 ** 2), kernel_size=(3, 3), stride=(2, 2), padding=(1, 1), bias=False),\n",
        "                nn.BatchNorm2d(c * (2 ** 2), eps=1e-05, momentum=bn_momentum, affine=True, track_running_stats=True),\n",
        "                nn.ReLU(inplace=True),\n",
        "            )),  # ToDo Why the new branch derives from the \"upper\" branch only?\n",
        "        ])\n",
        "\n",
        "        # Stage 3 (stage3)      - Third module with 4 groups of bottleneck (resnet) modules. This has 3 branches\n",
        "        self.stage3 = nn.Sequential(\n",
        "            StageModule(stage=3, output_branches=3, c=c, bn_momentum=bn_momentum),\n",
        "            StageModule(stage=3, output_branches=3, c=c, bn_momentum=bn_momentum),\n",
        "            StageModule(stage=3, output_branches=3, c=c, bn_momentum=bn_momentum),\n",
        "            StageModule(stage=3, output_branches=3, c=c, bn_momentum=bn_momentum),\n",
        "        )\n",
        "\n",
        "        # Fusion layer 3 (transition3)      - Creation of the fourth branch (1/8 resolution)\n",
        "        self.transition3 = nn.ModuleList([\n",
        "            nn.Sequential(),  # None,   - Used in place of \"None\" because it is callable\n",
        "            nn.Sequential(),  # None,   - Used in place of \"None\" because it is callable\n",
        "            nn.Sequential(),  # None,   - Used in place of \"None\" because it is callable\n",
        "            nn.Sequential(nn.Sequential(  # Double Sequential to fit with official pretrained weights\n",
        "                nn.Conv2d(c * (2 ** 2), c * (2 ** 3), kernel_size=(3, 3), stride=(2, 2), padding=(1, 1), bias=False),\n",
        "                nn.BatchNorm2d(c * (2 ** 3), eps=1e-05, momentum=bn_momentum, affine=True, track_running_stats=True),\n",
        "                nn.ReLU(inplace=True),\n",
        "            )),  # ToDo Why the new branch derives from the \"upper\" branch only?\n",
        "        ])\n",
        "\n",
        "        # Stage 4 (stage4)      - Fourth module with 3 groups of bottleneck (resnet) modules. This has 4 branches\n",
        "        self.stage4 = nn.Sequential(\n",
        "            StageModule(stage=4, output_branches=4, c=c, bn_momentum=bn_momentum),\n",
        "            StageModule(stage=4, output_branches=4, c=c, bn_momentum=bn_momentum),\n",
        "            StageModule(stage=4, output_branches=1, c=c, bn_momentum=bn_momentum),\n",
        "        )\n",
        "\n",
        "        # Final layer (final_layer)\n",
        "        self.final_layer = nn.Conv2d(c, nof_joints, kernel_size=(1, 1), stride=(1, 1))\n",
        "\n",
        "    def forward(self, x):\n",
        "        x = self.conv1(x)\n",
        "        x = self.bn1(x)\n",
        "        x = self.relu(x)\n",
        "        x = self.conv2(x)\n",
        "        x = self.bn2(x)\n",
        "        x = self.relu(x)\n",
        "\n",
        "        x = self.layer1(x)\n",
        "        x = [trans(x) for trans in self.transition1]  # Since now, x is a list (# == nof branches)\n",
        "\n",
        "        x = self.stage2(x)\n",
        "        # x = [trans(x[-1]) for trans in self.transition2]    # New branch derives from the \"upper\" branch only\n",
        "        x = [\n",
        "            self.transition2[0](x[0]),\n",
        "            self.transition2[1](x[1]),\n",
        "            self.transition2[2](x[-1])\n",
        "        ]  # New branch derives from the \"upper\" branch only\n",
        "\n",
        "        x = self.stage3(x)\n",
        "        # x = [trans(x) for trans in self.transition3]    # New branch derives from the \"upper\" branch only\n",
        "        x = [\n",
        "            self.transition3[0](x[0]),\n",
        "            self.transition3[1](x[1]),\n",
        "            self.transition3[2](x[2]),\n",
        "            self.transition3[3](x[-1])\n",
        "        ]  # New branch derives from the \"upper\" branch only\n",
        "\n",
        "        x = self.stage4(x)\n",
        "\n",
        "        x = self.final_layer(x[0])\n",
        "\n",
        "        return x\n"
      ],
      "metadata": {
        "id": "8N1I9rKxmVjw"
      },
      "id": "8N1I9rKxmVjw",
      "execution_count": null,
      "outputs": []
    },
    {
      "cell_type": "code",
      "execution_count": null,
      "id": "65960bfb-803a-4c40-b713-6f647779e4ea",
      "metadata": {
        "id": "65960bfb-803a-4c40-b713-6f647779e4ea"
      },
      "outputs": [],
      "source": [
        "# U-Net의 기본 구성 요소인 Double Convolution Block을 정의합니다.\n",
        "def double_conv(in_channels, out_channels):\n",
        "    return nn.Sequential(\n",
        "        nn.Conv2d(in_channels, out_channels, 3, padding=1),\n",
        "        nn.ReLU(inplace=True),\n",
        "        nn.Conv2d(out_channels, out_channels, 3, padding=1),\n",
        "        nn.ReLU(inplace=True)\n",
        "    )\n",
        "\n",
        "# 간단한 U-Net 모델 정의\n",
        "class UNet(nn.Module):\n",
        "    def __init__(self):\n",
        "        super(UNet, self).__init__()\n",
        "        self.dconv_down1 = double_conv(3, 64)\n",
        "        self.dconv_down2 = double_conv(64, 128)\n",
        "        self.dconv_down3 = double_conv(128, 256)\n",
        "        self.dconv_down4 = double_conv(256, 512)\n",
        "\n",
        "        self.maxpool = nn.MaxPool2d(2)\n",
        "        self.upsample = nn.Upsample(scale_factor=2, mode='bilinear', align_corners=True)\n",
        "\n",
        "        self.dconv_up3 = double_conv(256 + 512, 256)\n",
        "        self.dconv_up2 = double_conv(128 + 256, 128)\n",
        "        self.dconv_up1 = double_conv(128 + 64, 64)\n",
        "\n",
        "        self.conv_last = nn.Conv2d(64, 1, 1)\n",
        "\n",
        "    def forward(self, x):\n",
        "        conv1 = self.dconv_down1(x)\n",
        "        x = self.maxpool(conv1)\n",
        "\n",
        "        conv2 = self.dconv_down2(x)\n",
        "        x = self.maxpool(conv2)\n",
        "\n",
        "        conv3 = self.dconv_down3(x)\n",
        "        x = self.maxpool(conv3)\n",
        "\n",
        "        x = self.dconv_down4(x)\n",
        "\n",
        "        x = self.upsample(x)\n",
        "        x = torch.cat([x, conv3], dim=1)\n",
        "\n",
        "        x = self.dconv_up3(x)\n",
        "        x = self.upsample(x)\n",
        "        x = torch.cat([x, conv2], dim=1)\n",
        "\n",
        "        x = self.dconv_up2(x)\n",
        "        x = self.upsample(x)\n",
        "        x = torch.cat([x, conv1], dim=1)\n",
        "\n",
        "        x = self.dconv_up1(x)\n",
        "\n",
        "        out = self.conv_last(x)\n",
        "\n",
        "        return out"
      ]
    },
    {
      "cell_type": "markdown",
      "id": "a0895765-fba0-4fd9-b955-a6c0e43012e9",
      "metadata": {
        "id": "a0895765-fba0-4fd9-b955-a6c0e43012e9"
      },
      "source": [
        "## Model Train"
      ]
    },
    {
      "cell_type": "code",
      "source": [
        "  def train_epoch(model,device,dataloader,loss_fn,optimizer):\n",
        "        train_loss,train_correct=0.0,0\n",
        "        model.train()\n",
        "        for images, labels in dataloader:\n",
        "\n",
        "            images,labels = images.to(device),labels.to(device)\n",
        "            optimizer.zero_grad()\n",
        "            output = model(images)\n",
        "            loss = loss_fn(output,labels)\n",
        "            loss.backward()\n",
        "            optimizer.step()\n",
        "            train_loss += loss.item() * images.size(0)\n",
        "            scores, predictions = torch.max(output.data, 1)\n",
        "            train_correct += (predictions == labels).sum().item()\n",
        "\n",
        "        return train_loss,train_correct\n",
        "\n",
        "  def valid_epoch(model,device,dataloader,loss_fn):\n",
        "        valid_loss, val_correct = 0.0, 0\n",
        "        model.eval()\n",
        "        with torch.no_grad():\n",
        "          for images, labels in dataloader:\n",
        "\n",
        "              images,labels = images.to(device),labels.to(device)\n",
        "              output = model(images)\n",
        "              loss=loss_fn(output,labels)\n",
        "              valid_loss+=loss.item()*images.size(0)\n",
        "              scores, predictions = torch.max(output.data,1)\n",
        "              val_correct+=(predictions == labels).sum().item()\n",
        "\n",
        "        return valid_loss,val_correct"
      ],
      "metadata": {
        "id": "nHUpJnaObPYk"
      },
      "id": "nHUpJnaObPYk",
      "execution_count": null,
      "outputs": []
    },
    {
      "cell_type": "code",
      "execution_count": null,
      "id": "63efb381-98c6-4d9b-a3b6-bd11c7fa8c41",
      "metadata": {
        "id": "63efb381-98c6-4d9b-a3b6-bd11c7fa8c41",
        "outputId": "fbbb9b9a-1a72-4754-d9d5-6131d523e7ef",
        "colab": {
          "base_uri": "https://localhost:8080/"
        }
      },
      "outputs": [
        {
          "output_type": "stream",
          "name": "stderr",
          "text": [
            "100%|██████████| 179/179 [06:41<00:00,  2.24s/it]\n"
          ]
        },
        {
          "output_type": "stream",
          "name": "stdout",
          "text": [
            "Epoch 1, Loss: 0.1955065699762472\n"
          ]
        },
        {
          "output_type": "stream",
          "name": "stderr",
          "text": [
            "100%|██████████| 179/179 [06:40<00:00,  2.24s/it]\n"
          ]
        },
        {
          "output_type": "stream",
          "name": "stdout",
          "text": [
            "Epoch 2, Loss: 0.13103013926877655\n"
          ]
        },
        {
          "output_type": "stream",
          "name": "stderr",
          "text": [
            "100%|██████████| 179/179 [06:42<00:00,  2.25s/it]\n"
          ]
        },
        {
          "output_type": "stream",
          "name": "stdout",
          "text": [
            "Epoch 1, Loss: 0.11550826262994851\n"
          ]
        },
        {
          "output_type": "stream",
          "name": "stderr",
          "text": [
            "100%|██████████| 179/179 [06:42<00:00,  2.25s/it]\n"
          ]
        },
        {
          "output_type": "stream",
          "name": "stdout",
          "text": [
            "Epoch 2, Loss: 0.10553512289370905\n"
          ]
        },
        {
          "output_type": "stream",
          "name": "stderr",
          "text": [
            "100%|██████████| 179/179 [06:42<00:00,  2.25s/it]\n"
          ]
        },
        {
          "output_type": "stream",
          "name": "stdout",
          "text": [
            "Epoch 1, Loss: 0.09596373985766032\n"
          ]
        },
        {
          "output_type": "stream",
          "name": "stderr",
          "text": [
            "100%|██████████| 179/179 [06:41<00:00,  2.24s/it]\n"
          ]
        },
        {
          "output_type": "stream",
          "name": "stdout",
          "text": [
            "Epoch 2, Loss: 0.09027145973630457\n"
          ]
        },
        {
          "output_type": "stream",
          "name": "stderr",
          "text": [
            "100%|██████████| 179/179 [06:41<00:00,  2.24s/it]\n"
          ]
        },
        {
          "output_type": "stream",
          "name": "stdout",
          "text": [
            "Epoch 1, Loss: 0.08560061756542275\n"
          ]
        },
        {
          "output_type": "stream",
          "name": "stderr",
          "text": [
            "100%|██████████| 179/179 [06:41<00:00,  2.24s/it]\n"
          ]
        },
        {
          "output_type": "stream",
          "name": "stdout",
          "text": [
            "Epoch 2, Loss: 0.08115423402057013\n"
          ]
        },
        {
          "output_type": "stream",
          "name": "stderr",
          "text": [
            "100%|██████████| 179/179 [06:41<00:00,  2.25s/it]\n"
          ]
        },
        {
          "output_type": "stream",
          "name": "stdout",
          "text": [
            "Epoch 1, Loss: 0.0789068160609826\n"
          ]
        },
        {
          "output_type": "stream",
          "name": "stderr",
          "text": [
            "100%|██████████| 179/179 [06:40<00:00,  2.24s/it]"
          ]
        },
        {
          "output_type": "stream",
          "name": "stdout",
          "text": [
            "Epoch 2, Loss: 0.07544423410845869\n"
          ]
        },
        {
          "output_type": "stream",
          "name": "stderr",
          "text": [
            "\n"
          ]
        }
      ],
      "source": [
        "from sklearn.model_selection import KFold\n",
        "\n",
        "import matplotlib.pyplot as plt\n",
        "import numpy as np\n",
        "import random\n",
        "\n",
        "import torch\n",
        "import torch.nn as nn\n",
        "import torch.optim as optim\n",
        "from torch.utils.data import Dataset, DataLoader,TensorDataset,random_split,SubsetRandomSampler, ConcatDataset\n",
        "from torch.nn import functional as F\n",
        "import torchvision\n",
        "from torchvision import datasets,transforms\n",
        "import torchvision.transforms as transforms\n",
        "\n",
        "\n",
        "\n",
        "# model 초기화\n",
        "model = UNet().to(device)\n",
        "\n",
        "# loss function과 optimizer 정의\n",
        "criterion = torch.nn.BCEWithLogitsLoss()\n",
        "optimizer = torch.optim.Adam(model.parameters(), lr=0.001)\n",
        "\n",
        "splits=KFold(n_splits=5,shuffle=True,random_state=42)\n",
        "\n",
        "\n",
        "for fold, (train_idx,val_idx) in enumerate(splits.split(np.arange(len(dataset)))):\n",
        "    train_subsampler = torch.utils.data.SubsetRandomSampler(train_idx) # index 생성\n",
        "    val_subsampler = torch.utils.data.SubsetRandomSampler(val_idx) # index 생성\n",
        "\n",
        "    # sampler를 이용한 DataLoader 정의\n",
        "    trainloader = torch.utils.data.DataLoader(dataset, batch_size=32, sampler=train_subsampler) # 해당하는 index 추출\n",
        "    valloader = torch.utils.data.DataLoader(dataset, batch_size=32, sampler=val_subsampler)\n",
        "\n",
        "\n",
        "    for epoch in range(2):  # 10 에폭 동안 학습합니다.\n",
        "        model.train()\n",
        "        epoch_loss = 0\n",
        "\n",
        "        for images, masks in tqdm(trainloader):\n",
        "            images = images.float().to(device)\n",
        "            masks = masks.float().to(device)\n",
        "\n",
        "            optimizer.zero_grad()\n",
        "            outputs = model(images)\n",
        "            loss = criterion(outputs, masks.unsqueeze(1))\n",
        "            loss.backward()\n",
        "            optimizer.step()\n",
        "\n",
        "            epoch_loss += loss.item()\n",
        "\n",
        "        print(f'Epoch {epoch+1}, Loss: {epoch_loss/len(trainloader)}')\n",
        "\n"
      ]
    },
    {
      "cell_type": "markdown",
      "id": "c32eb51c-a3fe-4e11-a616-3a717ba16f7e",
      "metadata": {
        "id": "c32eb51c-a3fe-4e11-a616-3a717ba16f7e"
      },
      "source": [
        "## Inference"
      ]
    },
    {
      "cell_type": "code",
      "execution_count": null,
      "id": "12371c8b-0c78-47df-89ec-2d8b55c8ea94",
      "metadata": {
        "id": "12371c8b-0c78-47df-89ec-2d8b55c8ea94",
        "colab": {
          "base_uri": "https://localhost:8080/"
        },
        "outputId": "9d237eb3-9660-4d8b-e940-c038eca5ef3d"
      },
      "outputs": [
        {
          "output_type": "stream",
          "name": "stderr",
          "text": [
            "/usr/local/lib/python3.10/dist-packages/torch/utils/data/dataloader.py:560: UserWarning: This DataLoader will create 4 worker processes in total. Our suggested max number of worker in current system is 2, which is smaller than what this DataLoader is going to create. Please be aware that excessive worker creation might get DataLoader running slow or even freeze, lower the worker number to avoid potential slowness/freeze if necessary.\n",
            "  warnings.warn(_create_warning_msg(\n"
          ]
        }
      ],
      "source": [
        "test_dataset = SatelliteDataset(csv_file='./test.csv', transform=transform, infer=True)\n",
        "test_dataloader = DataLoader(test_dataset, batch_size=16, shuffle=False, num_workers=4)"
      ]
    },
    {
      "cell_type": "code",
      "execution_count": null,
      "id": "355b431c-ac8e-4c40-9046-4d53e4bab14a",
      "metadata": {
        "id": "355b431c-ac8e-4c40-9046-4d53e4bab14a",
        "outputId": "207fad2a-bafb-430c-ce18-96c71234670c",
        "colab": {
          "base_uri": "https://localhost:8080/"
        }
      },
      "outputs": [
        {
          "output_type": "stream",
          "name": "stderr",
          "text": [
            "100%|██████████| 3790/3790 [11:32<00:00,  5.47it/s]\n"
          ]
        }
      ],
      "source": [
        "with torch.no_grad():\n",
        "    model.eval()\n",
        "    result = []\n",
        "    for images in tqdm(test_dataloader):\n",
        "        images = images.float().to(device)\n",
        "\n",
        "        outputs = model(images)\n",
        "        masks = torch.sigmoid(outputs).cpu().numpy()\n",
        "        masks = np.squeeze(masks, axis=1)\n",
        "        masks = (masks > 0.35).astype(np.uint8) # Threshold = 0.35\n",
        "\n",
        "        for i in range(len(images)):\n",
        "            mask_rle = rle_encode(masks[i])\n",
        "            if mask_rle == '': # 예측된 건물 픽셀이 아예 없는 경우 -1\n",
        "                result.append(-1)\n",
        "            else:\n",
        "                result.append(mask_rle)"
      ]
    },
    {
      "cell_type": "markdown",
      "id": "36c2cbbb-04f1-4f9c-b4df-4b744dfce046",
      "metadata": {
        "id": "36c2cbbb-04f1-4f9c-b4df-4b744dfce046"
      },
      "source": [
        "## Submission"
      ]
    },
    {
      "cell_type": "code",
      "execution_count": null,
      "id": "f6543d00-32b3-4f2d-a572-d0879fd0a497",
      "metadata": {
        "id": "f6543d00-32b3-4f2d-a572-d0879fd0a497"
      },
      "outputs": [],
      "source": [
        "submit = pd.read_csv('./sample_submission.csv')\n",
        "submit['mask_rle'] = result"
      ]
    },
    {
      "cell_type": "code",
      "execution_count": null,
      "id": "da10cb6f-0826-4755-a376-97b695ae8f86",
      "metadata": {
        "id": "da10cb6f-0826-4755-a376-97b695ae8f86"
      },
      "outputs": [],
      "source": [
        "submit.to_csv('./submit.csv', index=False)"
      ]
    }
  ],
  "metadata": {
    "kernelspec": {
      "display_name": "Python 3",
      "name": "python3"
    },
    "language_info": {
      "codemirror_mode": {
        "name": "ipython",
        "version": 3
      },
      "file_extension": ".py",
      "mimetype": "text/x-python",
      "name": "python",
      "nbconvert_exporter": "python",
      "pygments_lexer": "ipython3",
      "version": "3.8.10"
    },
    "colab": {
      "provenance": [],
      "gpuType": "T4",
      "include_colab_link": true
    },
    "accelerator": "GPU"
  },
  "nbformat": 4,
  "nbformat_minor": 5
}