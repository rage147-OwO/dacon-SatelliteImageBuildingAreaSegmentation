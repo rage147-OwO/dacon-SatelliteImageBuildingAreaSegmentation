{
 "cells": [
  {
   "cell_type": "code",
   "execution_count": null,
   "metadata": {},
   "outputs": [],
   "source": []
  }
 ],
 "metadata": {
  "kernelspec": {
   "display_name": "Python 3.9.4 ('.venv': venv)",
   "language": "python",
   "name": "python3"
  },
  "language_info": {
   "name": "python",
   "version": "3.9.4"
  },
  "orig_nbformat": 4,
  "vscode": {
   "interpreter": {
    "hash": "4e712ad813d163520ee4676592dfc7ab6c9d75095d3ebd741075afcb1003622b"
   }
  }
 },
 "nbformat": 4,
 "nbformat_minor": 2
}
