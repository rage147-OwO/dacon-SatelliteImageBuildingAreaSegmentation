{
  "nbformat": 4,
  "nbformat_minor": 0,
  "metadata": {
    "colab": {
      "provenance": [],
      "gpuType": "T4"
    },
    "kernelspec": {
      "name": "python3",
      "display_name": "Python 3"
    },
    "language_info": {
      "name": "python"
    },
    "accelerator": "GPU"
  },
  "cells": [
    {
      "cell_type": "code",
      "source": [
        "!pip install efficientnet_pytorch\n",
        "!pip install albumentations\n",
        "!pip install segmentation_models_pytorch"
      ],
      "metadata": {
        "colab": {
          "base_uri": "https://localhost:8080/"
        },
        "id": "QFUNljztLRcu",
        "outputId": "15caf438-24d1-458a-e758-ec4a957ea9a6"
      },
      "execution_count": 3,
      "outputs": [
        {
          "output_type": "stream",
          "name": "stdout",
          "text": [
            "  Building wheel for pretrainedmodels (setup.py) ... \u001b[?25l\u001b[?25hdone\n",
            "  Created wheel for pretrainedmodels: filename=pretrainedmodels-0.7.4-py3-none-any.whl size=60945 sha256=9b266ad661db133e0729fc7523c431547bec6e21f92af7bdeefb5b16fb2d4872\n",
            "  Stored in directory: /root/.cache/pip/wheels/35/cb/a5/8f534c60142835bfc889f9a482e4a67e0b817032d9c6883b64\n",
            "Successfully built pretrainedmodels\n",
            "Installing collected packages: safetensors, munch, huggingface-hub, timm, pretrainedmodels, segmentation_models_pytorch\n",
            "Successfully installed huggingface-hub-0.16.4 munch-4.0.0 pretrainedmodels-0.7.4 safetensors-0.3.1 segmentation_models_pytorch-0.3.3 timm-0.9.2\n"
          ]
        }
      ]
    },
    {
      "cell_type": "code",
      "source": [
        "!unzip -qq \"/content/drive/MyDrive/open.zip\""
      ],
      "metadata": {
        "id": "HyuL-QHBOTms"
      },
      "execution_count": 5,
      "outputs": []
    },
    {
      "cell_type": "code",
      "execution_count": 1,
      "metadata": {
        "id": "XiRxL5Q0J8kD"
      },
      "outputs": [],
      "source": [
        "import os\n",
        "import cv2\n",
        "import pandas as pd\n",
        "import numpy as np\n",
        "\n",
        "import torch\n",
        "import torch.nn as nn\n",
        "from torch.utils.data import Dataset, DataLoader\n",
        "from torchvision import transforms\n",
        "import torch.optim as optim\n",
        "\n",
        "from tqdm import tqdm\n",
        "import albumentations as A\n",
        "from albumentations import (\n",
        "    Resize,\n",
        "    Compose,\n",
        "    HorizontalFlip,\n",
        "    VerticalFlip,\n",
        "    Normalize,\n",
        ")\n",
        "from efficientnet_pytorch import EfficientNet\n",
        "import segmentation_models_pytorch as smp\n",
        "\n",
        "device = torch.device('cuda' if torch.cuda.is_available() else 'cpu')"
      ]
    },
    {
      "cell_type": "code",
      "source": [
        "    model = smp.Unet(\n",
        "        encoder_name=\"efficientnet-b4\",\n",
        "        encoder_weights=\"imagenet\",\n",
        "        in_channels=3,\n",
        "        classes=1,\n",
        "    ).to(device)\n",
        "    device = torch.device('cuda' if torch.cuda.is_available() else 'cpu')"
      ],
      "metadata": {
        "id": "7VHf4JyQN0IX"
      },
      "execution_count": 2,
      "outputs": []
    },
    {
      "cell_type": "code",
      "source": [
        "# RLE 디코딩 함수\n",
        "def rle_decode(mask_rle, shape):\n",
        "    s = mask_rle.split()\n",
        "    starts, lengths = [np.asarray(x, dtype=int) for x in (s[0:][::2], s[1:][::2])]\n",
        "    starts -= 1\n",
        "    ends = starts + lengths\n",
        "    img = np.zeros(shape[0]*shape[1], dtype=np.uint8)\n",
        "    for lo, hi in zip(starts, ends):\n",
        "        img[lo:hi] = 1\n",
        "    return img.reshape(shape)\n",
        "\n",
        "# RLE 인코딩 함수\n",
        "def rle_encode(mask):\n",
        "    pixels = mask.flatten()\n",
        "    pixels = np.concatenate([[0], pixels, [0]])\n",
        "    runs = np.where(pixels[1:] != pixels[:-1])[0] + 1\n",
        "    runs[1::2] -= runs[::2]\n",
        "    return ' '.join(str(x) for x in runs)"
      ],
      "metadata": {
        "id": "QMTlgT6-LfYR"
      },
      "execution_count": 3,
      "outputs": []
    },
    {
      "cell_type": "code",
      "source": [
        "def get_training_augmentation():\n",
        "    train_transform = [\n",
        "        Resize(1024, 1024),\n",
        "        HorizontalFlip(p=0.5),\n",
        "        VerticalFlip(p=0.5),\n",
        "        Normalize(mean=(0.485, 0.456, 0.406), std=(0.229, 0.224, 0.225), p=1),\n",
        "    ]\n",
        "\n",
        "    return Compose(train_transform, p=1)\n",
        "\n",
        "class SatelliteDataset(Dataset):\n",
        "    def __init__(self, csv_file, transform=None, infer=False):\n",
        "        self.data = pd.read_csv(csv_file)\n",
        "        self.transform = transform\n",
        "        self.infer = infer\n",
        "\n",
        "    def __len__(self):\n",
        "        return len(self.data)\n",
        "\n",
        "    def __getitem__(self, idx):\n",
        "        img_path = self.data.iloc[idx, 1]\n",
        "        image = cv2.imread(img_path)\n",
        "        image = cv2.cvtColor(image, cv2.COLOR_BGR2RGB)\n",
        "\n",
        "        if self.infer:\n",
        "            if self.transform:\n",
        "                image = self.transform(image=image)['image']\n",
        "            return image\n",
        "\n",
        "        mask_rle = self.data.iloc[idx, 2]\n",
        "        mask = rle_decode(mask_rle, (image.shape[0], image.shape[1]))\n",
        "\n",
        "        if self.transform:\n",
        "            augmented = self.transform(image=image, mask=mask)\n",
        "            image = np.transpose(augmented['image'], (2, 0, 1))  # Change image from (H, W, C) to (C, H, W)\n",
        "            mask = np.expand_dims(augmented['mask'], axis=0)  #  Change mask from (H, W) to (1, H, W)\n",
        "\n",
        "        return image, mask\n",
        "\n",
        "dataset = SatelliteDataset(csv_file='/content/train.csv', transform=get_training_augmentation())\n",
        "dataloader = DataLoader(dataset, batch_size=2, shuffle=True, num_workers=4)\n"
      ],
      "metadata": {
        "colab": {
          "base_uri": "https://localhost:8080/"
        },
        "id": "LnRXKg1lLj8o",
        "outputId": "d625aaa1-5967-4ae1-e78d-f9496fc54e07"
      },
      "execution_count": 5,
      "outputs": [
        {
          "output_type": "stream",
          "name": "stderr",
          "text": [
            "/usr/local/lib/python3.10/dist-packages/torch/utils/data/dataloader.py:560: UserWarning: This DataLoader will create 4 worker processes in total. Our suggested max number of worker in current system is 2, which is smaller than what this DataLoader is going to create. Please be aware that excessive worker creation might get DataLoader running slow or even freeze, lower the worker number to avoid potential slowness/freeze if necessary.\n",
            "  warnings.warn(_create_warning_msg(\n"
          ]
        }
      ]
    },
    {
      "cell_type": "code",
      "source": [
        "# Define device\n",
        "device = torch.device('cuda' if torch.cuda.is_available() else 'cpu')\n",
        "\n",
        "# Initialize model\n",
        "model = smp.Unet(\n",
        "    encoder_name=\"efficientnet-b4\",\n",
        "    encoder_weights=\"imagenet\",\n",
        "    in_channels=3,\n",
        "    classes=1,\n",
        ").to(device)  # Move model to the device\n",
        "\n",
        "# Define loss function\n",
        "loss = nn.BCEWithLogitsLoss()\n",
        "\n",
        "# Define optimizer\n",
        "optimizer = optim.Adam(model.parameters(), lr=0.001)\n",
        "\n",
        "# Start training loop\n",
        "for epoch in range(10):  # 10 epochs\n",
        "    model.train()\n",
        "    epoch_loss = 0\n",
        "    for i,(images, masks) in enumerate(dataloader):\n",
        "        images = images.float().to(device)\n",
        "        masks = masks.float().to(device)\n",
        "\n",
        "        # Forward pass\n",
        "        outputs = model(images)\n",
        "        cost = loss(outputs, masks)\n",
        "\n",
        "        # Backward pass and optimization\n",
        "        optimizer.zero_grad()\n",
        "        cost.backward()\n",
        "        optimizer.step()\n",
        "\n",
        "        if (i + 1) % 100 == 0:\n",
        "            print(f\"Epoch [{epoch + 1}/10], Step [{i + 1}/{len(dataloader)}], Loss: {cost.item()}\")\n",
        "\n",
        "    # Save model every 10 epochs\n",
        "    if (epoch + 1) % 10 == 0:\n",
        "        torch.save(model.state_dict(), f\"model_epoch_{epoch + 1}.pth\")\n"
      ],
      "metadata": {
        "colab": {
          "base_uri": "https://localhost:8080/"
        },
        "id": "6weBjIHyL28J",
        "outputId": "75414061-51ad-4cf7-dcc9-51049fe4b55c"
      },
      "execution_count": null,
      "outputs": [
        {
          "output_type": "stream",
          "name": "stdout",
          "text": [
            "Epoch [1/10], Step [100/3570], Loss: 0.08102641999721527\n",
            "Epoch [1/10], Step [200/3570], Loss: 0.1146855428814888\n",
            "Epoch [1/10], Step [300/3570], Loss: 0.04809413105249405\n",
            "Epoch [1/10], Step [400/3570], Loss: 0.07174326479434967\n",
            "Epoch [1/10], Step [500/3570], Loss: 0.06325893849134445\n",
            "Epoch [1/10], Step [600/3570], Loss: 0.06368810683488846\n",
            "Epoch [1/10], Step [700/3570], Loss: 0.028474869206547737\n",
            "Epoch [1/10], Step [800/3570], Loss: 0.06439483165740967\n",
            "Epoch [1/10], Step [900/3570], Loss: 0.028462529182434082\n",
            "Epoch [1/10], Step [1000/3570], Loss: 0.11030863225460052\n",
            "Epoch [1/10], Step [1100/3570], Loss: 0.027807846665382385\n",
            "Epoch [1/10], Step [1200/3570], Loss: 0.038018763065338135\n",
            "Epoch [1/10], Step [1300/3570], Loss: 0.05161105468869209\n"
          ]
        }
      ]
    }
  ]
}